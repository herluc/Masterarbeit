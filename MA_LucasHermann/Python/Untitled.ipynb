{
 "cells": [
  {
   "cell_type": "code",
   "execution_count": 3,
   "id": "70059717",
   "metadata": {
    "scrolled": true
   },
   "outputs": [
    {
     "ename": "ModuleNotFoundError",
     "evalue": "No module named 'scitools'",
     "output_type": "error",
     "traceback": [
      "\u001b[0;31m---------------------------------------------------------------------------\u001b[0m",
      "\u001b[0;31mModuleNotFoundError\u001b[0m                       Traceback (most recent call last)",
      "\u001b[0;32m/tmp/ipykernel_123155/1998239265.py\u001b[0m in \u001b[0;36m<module>\u001b[0;34m\u001b[0m\n\u001b[1;32m     14\u001b[0m \u001b[0;32mfrom\u001b[0m \u001b[0mscipy\u001b[0m\u001b[0;34m.\u001b[0m\u001b[0mlinalg\u001b[0m \u001b[0;32mimport\u001b[0m \u001b[0mcho_factor\u001b[0m\u001b[0;34m,\u001b[0m \u001b[0mcho_solve\u001b[0m\u001b[0;34m\u001b[0m\u001b[0;34m\u001b[0m\u001b[0m\n\u001b[1;32m     15\u001b[0m \u001b[0;34m\u001b[0m\u001b[0m\n\u001b[0;32m---> 16\u001b[0;31m \u001b[0;32mimport\u001b[0m \u001b[0mscitools\u001b[0m \u001b[0;32mas\u001b[0m \u001b[0mst\u001b[0m\u001b[0;34m\u001b[0m\u001b[0;34m\u001b[0m\u001b[0m\n\u001b[0m\u001b[1;32m     17\u001b[0m \u001b[0;34m\u001b[0m\u001b[0m\n\u001b[1;32m     18\u001b[0m \u001b[0;32mimport\u001b[0m \u001b[0mipywidgets\u001b[0m \u001b[0;32mas\u001b[0m \u001b[0mwidgets\u001b[0m\u001b[0;34m\u001b[0m\u001b[0;34m\u001b[0m\u001b[0m\n",
      "\u001b[0;31mModuleNotFoundError\u001b[0m: No module named 'scitools'"
     ]
    }
   ],
   "source": [
    "import pickle\n",
    "PIK = \"pickle.dat\"\n",
    "import matplotlib\n",
    "import matplotlib.pyplot as plt\n",
    "plt.rc('text', usetex=True)\n",
    "plt.rc('text.latex', preamble=r'\\usepackage{amsmath}\\usepackage[utf8]{inputenc}')\n",
    "from matplotlib import cm\n",
    "from mpl_toolkits.mplot3d import Axes3D\n",
    "import shift\n",
    "import align\n",
    "import numpy as np\n",
    "import scipy\n",
    "from scipy.stats import norm\n",
    "from scipy.linalg import cho_factor, cho_solve\n",
    "\n",
    "\n",
    "\n",
    "import ipywidgets as widgets\n",
    "from ipywidgets import interact, interact_manual\n",
    "\n"
   ]
  },
  {
   "cell_type": "code",
   "execution_count": null,
   "id": "375982fa",
   "metadata": {
    "scrolled": true
   },
   "outputs": [],
   "source": [
    "with open(PIK, \"rb\") as f:\n",
    "    data =  pickle.load(f)\n",
    "    \n",
    "u_mean = data[0]\n",
    "u_cut = data[1]\n",
    "u_cut_var = data[2]\n",
    "source = data[3]\n",
    "source_var = data[4]"
   ]
  },
  {
   "cell_type": "code",
   "execution_count": null,
   "id": "8d2d5395",
   "metadata": {
    "scrolled": true
   },
   "outputs": [],
   "source": [
    "def printStuff(i):\n",
    "    Z = u_mean[i]\n",
    "    U_mean_cut = u_cut[i]\n",
    "    sig_cut = u_cut_var[i]\n",
    "    SourceMean = source[i]\n",
    "    sourceVariance = source_var[i]\n",
    "    a=20\n",
    "    b=20\n",
    "    x=np.linspace(0,1,a+1)\n",
    "    y=np.linspace(0,1,b+1)\n",
    "    fig4 = plt.figure(figsize=(5.5,4), dpi=100)\n",
    "    #ax = fig4.gca(projection='3d')\n",
    "    ax = fig4.gca()\n",
    "    cset2 = ax.contourf(x, y, np.transpose(Z), 100,cmap=cm.cividis)\n",
    "\n",
    "    ax.plot(x,0.7*np.ones(a+1),color=\"black\",linestyle=\"--\")\n",
    "\n",
    "    ax.set_ylabel('$y$')\n",
    "    ax.set_xticks(np.linspace(0,1,6))\n",
    "    ax.set_xlabel('$x$')\n",
    "\n",
    "    cbar = fig4.colorbar(cset2, ax=ax,  pad=0.14)\n",
    "\n",
    "    ax2 = ax.twinx()\n",
    "    ax2.plot(x,np.array(U_mean_cut),color=\"green\", label=\"Pressure at y = 0.7\")\n",
    "    ax2.fill_between(x, (np.array(U_mean_cut) + 1.96*np.array(sig_cut)), (np.array(U_mean_cut) - 1.96*np.array(sig_cut)), color='green', alpha=0.15)\n",
    "\n",
    "    #ax2.fill_between(x, (np.array(self.U_mean_cut) + 1.96*np.array(self.sig_cut)), (np.array(self.U_mean_cut) - 1.96*np.array(self.sig_cut)), color='green', alpha=0.15)\n",
    "    ax.set_xlim(-0.25,1)\n",
    "    ax.set_ylim(0,1)\n",
    "    #ax2.set_ylim(-120,80)\n",
    "    ax2.set_ylabel(\"Pressure at $y_c$\",color='green', loc=\"top\")\n",
    "    ax2.tick_params(axis='y',labelcolor='green')\n",
    "    ax2.set_ylim(-32,18)\n",
    "    ax2.set_yticks(np.linspace(-15,15,4))\n",
    "\n",
    "    ax3 = ax.twiny()\n",
    "    ax3.plot(0.3*np.array(SourceMean),y,color=\"red\", label=\"Source\")\n",
    "    ax3.fill_betweenx(y, 0.3*((np.array(SourceMean) + 1.96*np.array(sourceVariance))),\n",
    "        0.3*((np.array(SourceMean) - 1.96*np.array(sourceVariance))), color='red', alpha=0.15)\n",
    "    ax3.set_xlabel(r\"$\\rho \\omega^2 \\bar{U}$\",color='red', loc=\"left\")\n",
    "    ax3.tick_params(axis='x',labelcolor='red')\n",
    "    ax3.set_xticks(np.linspace(-10,10,3))\n",
    "    ax3.set_xlim(-14,30)\n",
    "\n",
    "    fig4.legend(loc=\"upper right\",bbox_to_anchor=(1,1),bbox_transform=ax.transAxes)\n",
    "\n",
    "    plt.tight_layout()\n",
    "    align.xaxes(ax,0,ax3,0,0.2)\n",
    "    #fig4.savefig(\"SolutionCustom.pdf\", bbox_inches='tight')\n",
    "    freq = np.linspace(50,500,20)\n",
    "    print(\"frequency: \",freq[i],\"Hz\")\n",
    "    plt.show()"
   ]
  },
  {
   "cell_type": "code",
   "execution_count": null,
   "id": "7485e6dc",
   "metadata": {
    "scrolled": false
   },
   "outputs": [],
   "source": []
  },
  {
   "cell_type": "code",
   "execution_count": 2,
   "id": "c65d4ae2",
   "metadata": {
    "scrolled": false
   },
   "outputs": [
    {
     "ename": "NameError",
     "evalue": "name 'interact' is not defined",
     "output_type": "error",
     "traceback": [
      "\u001b[0;31m---------------------------------------------------------------------------\u001b[0m",
      "\u001b[0;31mNameError\u001b[0m                                 Traceback (most recent call last)",
      "\u001b[0;32m/tmp/ipykernel_123155/3452954727.py\u001b[0m in \u001b[0;36m<module>\u001b[0;34m\u001b[0m\n\u001b[0;32m----> 1\u001b[0;31m \u001b[0minteract\u001b[0m\u001b[0;34m(\u001b[0m\u001b[0mprintStuff\u001b[0m\u001b[0;34m,\u001b[0m \u001b[0mi\u001b[0m\u001b[0;34m=\u001b[0m\u001b[0mwidgets\u001b[0m\u001b[0;34m.\u001b[0m\u001b[0mIntSlider\u001b[0m\u001b[0;34m(\u001b[0m\u001b[0mmin\u001b[0m\u001b[0;34m=\u001b[0m\u001b[0;36m0\u001b[0m\u001b[0;34m,\u001b[0m \u001b[0mmax\u001b[0m\u001b[0;34m=\u001b[0m\u001b[0;36m20\u001b[0m\u001b[0;34m,\u001b[0m \u001b[0mstep\u001b[0m\u001b[0;34m=\u001b[0m\u001b[0;36m1\u001b[0m\u001b[0;34m,\u001b[0m \u001b[0mvalue\u001b[0m\u001b[0;34m=\u001b[0m\u001b[0;36m10\u001b[0m\u001b[0;34m)\u001b[0m\u001b[0;34m)\u001b[0m\u001b[0;34m\u001b[0m\u001b[0;34m\u001b[0m\u001b[0m\n\u001b[0m",
      "\u001b[0;31mNameError\u001b[0m: name 'interact' is not defined"
     ]
    }
   ],
   "source": [
    "interact(printStuff, i=widgets.IntSlider(min=0, max=20, step=1, value=10))"
   ]
  },
  {
   "cell_type": "code",
   "execution_count": null,
   "id": "6cf96600",
   "metadata": {
    "collapsed": true,
    "scrolled": false
   },
   "outputs": [],
   "source": []
  }
 ],
 "metadata": {
  "kernelspec": {
   "display_name": "Python 3 (ipykernel)",
   "language": "python",
   "name": "python3"
  },
  "language_info": {
   "codemirror_mode": {
    "name": "ipython",
    "version": 3
   },
   "file_extension": ".py",
   "mimetype": "text/x-python",
   "name": "python",
   "nbconvert_exporter": "python",
   "pygments_lexer": "ipython3",
   "version": "3.9.5"
  }
 },
 "nbformat": 4,
 "nbformat_minor": 5
}
