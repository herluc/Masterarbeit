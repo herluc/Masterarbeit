{
 "cells": [
  {
   "cell_type": "code",
   "execution_count": 39,
   "id": "a442444a",
   "metadata": {
    "scrolled": true
   },
   "outputs": [],
   "source": [
    "import pickle\n",
    "PIK = \"factor.dat\"\n",
    "import matplotlib\n",
    "import matplotlib.pyplot as plt\n",
    "plt.rc('text', usetex=True)\n",
    "plt.rc('text.latex', preamble=r'\\usepackage{amsmath}\\usepackage[utf8]{inputenc}')\n",
    "from matplotlib import cm\n",
    "from mpl_toolkits.mplot3d import Axes3D\n",
    "import shift\n",
    "import align\n",
    "import numpy as np\n",
    "import scipy\n",
    "from scipy.stats import norm\n",
    "from scipy.linalg import cho_factor, cho_solve\n",
    "\n",
    "import scitools as st\n",
    "\n",
    "import ipywidgets as widgets\n",
    "from ipywidgets import interact, interact_manual\n",
    "\n"
   ]
  },
  {
   "cell_type": "code",
   "execution_count": 40,
   "id": "3f250490",
   "metadata": {
    "scrolled": true
   },
   "outputs": [],
   "source": [
    "with open(PIK, \"rb\") as f:\n",
    "    data =  pickle.load(f)\n",
    "    \n",
    "u_mean = data[0]\n",
    "u_cut = data[1]\n",
    "u_cut_var = data[2]\n",
    "source = data[3]\n",
    "source_var = data[4]"
   ]
  },
  {
   "cell_type": "code",
   "execution_count": 44,
   "id": "c7715263",
   "metadata": {
    "scrolled": true
   },
   "outputs": [],
   "source": [
    "def printStuff(i):\n",
    "    Z = u_mean[i]\n",
    "    U_mean_cut = u_cut[i]\n",
    "    sig_cut = u_cut_var[i]\n",
    "    SourceMean = source[i]\n",
    "    sourceVariance = source_var[i]\n",
    "    a=30\n",
    "    b=30\n",
    "    x=np.linspace(0,1,a+1)\n",
    "    y=np.linspace(0,1,b+1)\n",
    "    fig4 = plt.figure(figsize=(5.5,4), dpi=100)\n",
    "    #ax = fig4.gca(projection='3d')\n",
    "    ax = fig4.gca()\n",
    "    cset2 = ax.contourf(x, y, np.transpose(Z), 100,cmap=cm.cividis)\n",
    "\n",
    "    ax.plot(x,0.7*np.ones(a+1),color=\"black\",linestyle=\"--\")\n",
    "\n",
    "    ax.set_ylabel('$y$')\n",
    "    ax.set_xticks(np.linspace(0,1,6))\n",
    "    ax.set_xlabel('$x$')\n",
    "\n",
    "    cbar = fig4.colorbar(cset2, ax=ax,  pad=0.14)\n",
    "\n",
    "    ax2 = ax.twinx()\n",
    "    ax2.plot(x,np.array(U_mean_cut),color=\"green\", label=\"Pressure at y = 0.7\")\n",
    "    ax2.fill_between(x, (np.array(U_mean_cut) + 1.96*np.array(sig_cut)), (np.array(U_mean_cut) - 1.96*np.array(sig_cut)), color='green', alpha=0.15)\n",
    "\n",
    "    #ax2.fill_between(x, (np.array(self.U_mean_cut) + 1.96*np.array(self.sig_cut)), (np.array(self.U_mean_cut) - 1.96*np.array(self.sig_cut)), color='green', alpha=0.15)\n",
    "    ax.set_xlim(-0.25,1)\n",
    "    ax.set_ylim(0,1)\n",
    "    #ax2.set_ylim(-120,80)\n",
    "    ax2.set_ylabel(\"Pressure at $y_c$\",color='green', loc=\"top\")\n",
    "    ax2.tick_params(axis='y',labelcolor='green')\n",
    "    ax2.set_ylim(-32,18)\n",
    "    ax2.set_yticks(np.linspace(-15,15,4))\n",
    "\n",
    "    ax3 = ax.twiny()\n",
    "    ax3.plot(0.3*np.array(SourceMean),y,color=\"red\", label=\"Source\")\n",
    "    ax3.fill_betweenx(y, 0.3*((np.array(SourceMean) + 1.96*np.array(sourceVariance))),\n",
    "        0.3*((np.array(SourceMean) - 1.96*np.array(sourceVariance))), color='red', alpha=0.15)\n",
    "    ax3.set_xlabel(r\"$\\rho \\omega^2 \\bar{U}$\",color='red', loc=\"left\")\n",
    "    ax3.tick_params(axis='x',labelcolor='red')\n",
    "    ax3.set_xticks(np.linspace(-10,10,3))\n",
    "    ax3.set_xlim(-14,30)\n",
    "\n",
    "    fig4.legend(loc=\"upper right\",bbox_to_anchor=(1,1),bbox_transform=ax.transAxes)\n",
    "\n",
    "    plt.tight_layout()\n",
    "    align.xaxes(ax,0,ax3,0,0.2)\n",
    "    #fig4.savefig(\"SolutionCustom.pdf\", bbox_inches='tight')\n",
    "    freq = np.linspace(50,500,20)\n",
    "    print(\"frequency: \",freq[i],\"Hz\")\n",
    "    plt.show()"
   ]
  },
  {
   "cell_type": "code",
   "execution_count": null,
   "id": "966faa0f",
   "metadata": {
    "scrolled": false
   },
   "outputs": [],
   "source": []
  },
  {
   "cell_type": "code",
   "execution_count": 48,
   "id": "34790f03",
   "metadata": {
    "scrolled": false
   },
   "outputs": [
    {
     "data": {
      "application/vnd.jupyter.widget-view+json": {
       "model_id": "fcf566f7f757494bb49222fad7940ef4",
       "version_major": 2,
       "version_minor": 0
      },
      "text/plain": [
       "interactive(children=(IntSlider(value=1, description='i', max=3), Output()), _dom_classes=('widget-interact',)…"
      ]
     },
     "metadata": {},
     "output_type": "display_data"
    },
    {
     "data": {
      "text/plain": [
       "<function __main__.printStuff(i)>"
      ]
     },
     "execution_count": 48,
     "metadata": {},
     "output_type": "execute_result"
    }
   ],
   "source": [
    "interact(printStuff, i=widgets.IntSlider(min=0, max=3, step=1, value=1))"
   ]
  },
  {
   "cell_type": "code",
   "execution_count": null,
   "id": "970ea18e",
   "metadata": {
    "scrolled": false
   },
   "outputs": [],
   "source": []
  },
  {
   "cell_type": "code",
   "execution_count": null,
   "id": "9f354ff3",
   "metadata": {},
   "outputs": [],
   "source": []
  },
  {
   "cell_type": "code",
   "execution_count": null,
   "id": "b7d7b377",
   "metadata": {},
   "outputs": [],
   "source": []
  },
  {
   "cell_type": "code",
   "execution_count": null,
   "id": "5f5c4d06",
   "metadata": {},
   "outputs": [],
   "source": []
  },
  {
   "cell_type": "code",
   "execution_count": null,
   "id": "cb0d2158",
   "metadata": {},
   "outputs": [],
   "source": []
  },
  {
   "cell_type": "code",
   "execution_count": null,
   "id": "1e33ecba",
   "metadata": {},
   "outputs": [],
   "source": []
  },
  {
   "cell_type": "code",
   "execution_count": null,
   "id": "1886aedd",
   "metadata": {},
   "outputs": [],
   "source": []
  },
  {
   "cell_type": "code",
   "execution_count": null,
   "id": "aa5a1291",
   "metadata": {},
   "outputs": [],
   "source": []
  },
  {
   "cell_type": "code",
   "execution_count": null,
   "id": "8fe1d5db",
   "metadata": {},
   "outputs": [],
   "source": []
  }
 ],
 "metadata": {
  "kernelspec": {
   "display_name": "Python 3",
   "language": "python",
   "name": "python3"
  },
  "language_info": {
   "codemirror_mode": {
    "name": "ipython",
    "version": 3
   },
   "file_extension": ".py",
   "mimetype": "text/x-python",
   "name": "python",
   "nbconvert_exporter": "python",
   "pygments_lexer": "ipython3",
   "version": "3.6.9"
  }
 },
 "nbformat": 4,
 "nbformat_minor": 5
}
